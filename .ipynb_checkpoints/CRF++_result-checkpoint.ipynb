{
 "cells": [
  {
   "cell_type": "markdown",
   "metadata": {},
   "source": [
    "### 测试用CRF++做序列标注时的准确度，一行三列，字，字的真实pos，CRF++预测的pos。"
   ]
  },
  {
   "cell_type": "code",
   "execution_count": 5,
   "metadata": {},
   "outputs": [],
   "source": [
    "## 读取CRF++预测的结果，CRF++预测过程，是在服务器终端/home/wjc/downloads/CRF++-0.58/example/chunking下进行。\n",
    "\n",
    "output = open('./output.txt','r',encoding='utf-8')\n",
    "pairList = []\n",
    "result = []\n",
    "for line in output:\n",
    "    line = line.encode('utf-8').decode('utf-8-sig').strip()\n",
    "    if line:\n",
    "        l = line.split('\\t')\n",
    "        word = l[0]\n",
    "        true_pos = l[1]\n",
    "        pred_pos = l[2]\n",
    "        pairList.append([word, true_pos, pred_pos])\n",
    "    else:\n",
    "        result.append(pairList)\n",
    "        pairList = []\n",
    "output.close()"
   ]
  },
  {
   "cell_type": "code",
   "execution_count": 1,
   "metadata": {},
   "outputs": [],
   "source": [
    "# print(result[5])"
   ]
  },
  {
   "cell_type": "code",
   "execution_count": 11,
   "metadata": {},
   "outputs": [],
   "source": [
    "## 定义准确率，召回率，F1\n",
    "\n",
    "recallTotal = 0\n",
    "precisionTotal = 0\n",
    "correctTotal = 0\n",
    "for sent in result:\n",
    "    for pair in sent:\n",
    "        if pair[1] != 'N':\n",
    "            recallTotal += 1\n",
    "        if pair[2] != 'N':\n",
    "            precisionTotal += 1\n",
    "        if pair[1]==pair[2] and pair[1]!='N':\n",
    "            correctTotal += 1"
   ]
  },
  {
   "cell_type": "code",
   "execution_count": 3,
   "metadata": {},
   "outputs": [],
   "source": [
    "## 定义准确率，召回率，F1\n",
    "\n",
    "precisionRate = 1.0 * correctTotal / precisionTotal\n",
    "recallRate = 1.0 * correctTotal / recallTotal\n",
    "F = 2 / (1/precisionRate + 1/recallRate)"
   ]
  },
  {
   "cell_type": "code",
   "execution_count": 13,
   "metadata": {},
   "outputs": [
    {
     "name": "stdout",
     "output_type": "stream",
     "text": [
      "precisionRate: 0.9266410416852895\n",
      "recallRate: 0.8509083944401883\n",
      "F: 0.8871614200744554\n"
     ]
    }
   ],
   "source": [
    "print('precisionRate:', precisionRate)\n",
    "print('recallRate:', recallRate)\n",
    "print('F:', F)"
   ]
  }
 ],
 "metadata": {
  "kernelspec": {
   "display_name": "Python 3",
   "language": "python",
   "name": "python3"
  },
  "language_info": {
   "codemirror_mode": {
    "name": "ipython",
    "version": 3
   },
   "file_extension": ".py",
   "mimetype": "text/x-python",
   "name": "python",
   "nbconvert_exporter": "python",
   "pygments_lexer": "ipython3",
   "version": "3.6.5"
  }
 },
 "nbformat": 4,
 "nbformat_minor": 2
}
